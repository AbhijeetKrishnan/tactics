{
 "cells": [
  {
   "cell_type": "markdown",
   "metadata": {},
   "source": [
    "# Import required libraries"
   ]
  },
  {
   "cell_type": "code",
   "execution_count": 1,
   "metadata": {},
   "outputs": [],
   "source": [
    "import pandas as pd\n",
    "import matplotlib.pyplot as plt"
   ]
  },
  {
   "cell_type": "markdown",
   "metadata": {},
   "source": [
    "# Load data"
   ]
  },
  {
   "cell_type": "code",
   "execution_count": 13,
   "metadata": {},
   "outputs": [],
   "source": [
    "data_filename = 'data/stats/metrics_no_fpred.csv'\n",
    "df = pd.read_csv(data_filename)"
   ]
  },
  {
   "cell_type": "markdown",
   "metadata": {},
   "source": [
    "# Do analysis"
   ]
  },
  {
   "cell_type": "code",
   "execution_count": 4,
   "metadata": {},
   "outputs": [
    {
     "data": {
      "text/html": [
       "<div>\n",
       "<style scoped>\n",
       "    .dataframe tbody tr th:only-of-type {\n",
       "        vertical-align: middle;\n",
       "    }\n",
       "\n",
       "    .dataframe tbody tr th {\n",
       "        vertical-align: top;\n",
       "    }\n",
       "\n",
       "    .dataframe thead th {\n",
       "        text-align: right;\n",
       "    }\n",
       "</style>\n",
       "<table border=\"1\" class=\"dataframe\">\n",
       "  <thead>\n",
       "    <tr style=\"text-align: right;\">\n",
       "      <th></th>\n",
       "      <th>total_positions</th>\n",
       "      <th>total_matches</th>\n",
       "      <th>num_suggestions</th>\n",
       "      <th>divergence</th>\n",
       "      <th>avg</th>\n",
       "    </tr>\n",
       "  </thead>\n",
       "  <tbody>\n",
       "    <tr>\n",
       "      <th>count</th>\n",
       "      <td>122.0</td>\n",
       "      <td>122.000000</td>\n",
       "      <td>122.000000</td>\n",
       "      <td>122.000000</td>\n",
       "      <td>122.000000</td>\n",
       "    </tr>\n",
       "    <tr>\n",
       "      <th>mean</th>\n",
       "      <td>100.0</td>\n",
       "      <td>25.122951</td>\n",
       "      <td>57.491803</td>\n",
       "      <td>10834.018592</td>\n",
       "      <td>15094.696721</td>\n",
       "    </tr>\n",
       "    <tr>\n",
       "      <th>std</th>\n",
       "      <td>0.0</td>\n",
       "      <td>19.189605</td>\n",
       "      <td>51.892808</td>\n",
       "      <td>10054.678893</td>\n",
       "      <td>11498.704109</td>\n",
       "    </tr>\n",
       "    <tr>\n",
       "      <th>min</th>\n",
       "      <td>100.0</td>\n",
       "      <td>4.000000</td>\n",
       "      <td>8.000000</td>\n",
       "      <td>669.000000</td>\n",
       "      <td>1338.000000</td>\n",
       "    </tr>\n",
       "    <tr>\n",
       "      <th>25%</th>\n",
       "      <td>100.0</td>\n",
       "      <td>4.000000</td>\n",
       "      <td>12.000000</td>\n",
       "      <td>977.500000</td>\n",
       "      <td>1955.000000</td>\n",
       "    </tr>\n",
       "    <tr>\n",
       "      <th>50%</th>\n",
       "      <td>100.0</td>\n",
       "      <td>36.000000</td>\n",
       "      <td>50.000000</td>\n",
       "      <td>10474.000000</td>\n",
       "      <td>20948.000000</td>\n",
       "    </tr>\n",
       "    <tr>\n",
       "      <th>75%</th>\n",
       "      <td>100.0</td>\n",
       "      <td>36.000000</td>\n",
       "      <td>108.000000</td>\n",
       "      <td>24903.269011</td>\n",
       "      <td>28058.000000</td>\n",
       "    </tr>\n",
       "    <tr>\n",
       "      <th>max</th>\n",
       "      <td>100.0</td>\n",
       "      <td>100.000000</td>\n",
       "      <td>300.000000</td>\n",
       "      <td>25195.662013</td>\n",
       "      <td>32144.000000</td>\n",
       "    </tr>\n",
       "  </tbody>\n",
       "</table>\n",
       "</div>"
      ],
      "text/plain": [
       "       total_positions  total_matches  num_suggestions    divergence  \\\n",
       "count            122.0     122.000000       122.000000    122.000000   \n",
       "mean             100.0      25.122951        57.491803  10834.018592   \n",
       "std                0.0      19.189605        51.892808  10054.678893   \n",
       "min              100.0       4.000000         8.000000    669.000000   \n",
       "25%              100.0       4.000000        12.000000    977.500000   \n",
       "50%              100.0      36.000000        50.000000  10474.000000   \n",
       "75%              100.0      36.000000       108.000000  24903.269011   \n",
       "max              100.0     100.000000       300.000000  25195.662013   \n",
       "\n",
       "                avg  \n",
       "count    122.000000  \n",
       "mean   15094.696721  \n",
       "std    11498.704109  \n",
       "min     1338.000000  \n",
       "25%     1955.000000  \n",
       "50%    20948.000000  \n",
       "75%    28058.000000  \n",
       "max    32144.000000  "
      ]
     },
     "execution_count": 4,
     "metadata": {},
     "output_type": "execute_result"
    }
   ],
   "source": [
    "df.describe()"
   ]
  },
  {
   "cell_type": "code",
   "execution_count": 19,
   "metadata": {},
   "outputs": [
    {
     "data": {
      "text/plain": [
       "(array([48.,  0., 12., 22.,  0.,  2.,  2.,  0.,  0., 36.]),\n",
       " array([  669.        ,  3121.66620132,  5574.33240263,  8026.99860395,\n",
       "        10479.66480526, 12932.33100658, 15384.99720789, 17837.66340921,\n",
       "        20290.32961052, 22742.99581184, 25195.66201315]),\n",
       " <BarContainer object of 10 artists>)"
      ]
     },
     "execution_count": 19,
     "metadata": {},
     "output_type": "execute_result"
    },
    {
     "data": {
      "image/png": "[encoded data removed]",
      "text/plain": [
       "<Figure size 432x288 with 1 Axes>"
      ]
     },
     "metadata": {
      "needs_background": "light"
     },
     "output_type": "display_data"
    }
   ],
   "source": [
    "plt.hist(df['divergence'], bins=10)"
   ]
  },
  {
   "cell_type": "code",
   "execution_count": 20,
   "metadata": {},
   "outputs": [
    {
     "data": {
      "text/plain": [
       "(array([48.,  0.,  0.,  2., 10.,  0., 22.,  0., 37.,  3.]),\n",
       " array([ 1338. ,  4418.6,  7499.2, 10579.8, 13660.4, 16741. , 19821.6,\n",
       "        22902.2, 25982.8, 29063.4, 32144. ]),\n",
       " <BarContainer object of 10 artists>)"
      ]
     },
     "execution_count": 20,
     "metadata": {},
     "output_type": "execute_result"
    },
    {
     "data": {
      "image/png": "[encoded data removed]",
      "text/plain": [
       "<Figure size 432x288 with 1 Axes>"
      ]
     },
     "metadata": {
      "needs_background": "light"
     },
     "output_type": "display_data"
    }
   ],
   "source": [
    "plt.hist(df['avg'], bins=10)"
   ]
  },
  {
   "cell_type": "code",
   "execution_count": 21,
   "metadata": {},
   "outputs": [
    {
     "data": {
      "text/plain": [
       "(array([48.,  0.,  0., 68.,  0.,  4.,  0.,  0.,  0.,  2.]),\n",
       " array([0.04 , 0.136, 0.232, 0.328, 0.424, 0.52 , 0.616, 0.712, 0.808,\n",
       "        0.904, 1.   ]),\n",
       " <BarContainer object of 10 artists>)"
      ]
     },
     "execution_count": 21,
     "metadata": {},
     "output_type": "execute_result"
    },
    {
     "data": {
      "image/png": "[encoded data removed]",
      "text/plain": [
       "<Figure size 432x288 with 1 Axes>"
      ]
     },
     "metadata": {
      "needs_background": "light"
     },
     "output_type": "display_data"
    }
   ],
   "source": [
    "df['coverage'] = df['total_matches'] / df['total_positions']\n",
    "plt.hist(df['coverage'], bins=10)"
   ]
  },
  {
   "cell_type": "code",
   "execution_count": 23,
   "metadata": {},
   "outputs": [
    {
     "data": {
      "text/html": [
       "<div>\n",
       "<style scoped>\n",
       "    .dataframe tbody tr th:only-of-type {\n",
       "        vertical-align: middle;\n",
       "    }\n",
       "\n",
       "    .dataframe tbody tr th {\n",
       "        vertical-align: top;\n",
       "    }\n",
       "\n",
       "    .dataframe thead th {\n",
       "        text-align: right;\n",
       "    }\n",
       "</style>\n",
       "<table border=\"1\" class=\"dataframe\">\n",
       "  <thead>\n",
       "    <tr style=\"text-align: right;\">\n",
       "      <th></th>\n",
       "      <th>text</th>\n",
       "      <th>total_positions</th>\n",
       "      <th>total_matches</th>\n",
       "      <th>num_suggestions</th>\n",
       "      <th>divergence</th>\n",
       "      <th>avg</th>\n",
       "      <th>coverage</th>\n",
       "    </tr>\n",
       "  </thead>\n",
       "  <tbody>\n",
       "    <tr>\n",
       "      <th>56</th>\n",
       "      <td>f(A,B,C):-legal_move(B,C,A),behind(B,D,E,A),di...</td>\n",
       "      <td>100</td>\n",
       "      <td>36</td>\n",
       "      <td>108</td>\n",
       "      <td>6687.000000</td>\n",
       "      <td>13374.0</td>\n",
       "      <td>0.36</td>\n",
       "    </tr>\n",
       "    <tr>\n",
       "      <th>102</th>\n",
       "      <td>f(A,B,C):-legal_move(B,C,A),behind(B,E,D,A),di...</td>\n",
       "      <td>100</td>\n",
       "      <td>36</td>\n",
       "      <td>108</td>\n",
       "      <td>6687.000000</td>\n",
       "      <td>13374.0</td>\n",
       "      <td>0.36</td>\n",
       "    </tr>\n",
       "    <tr>\n",
       "      <th>18</th>\n",
       "      <td>f(A,B,C):-legal_move(B,C,A),behind(B,E,D,A),be...</td>\n",
       "      <td>100</td>\n",
       "      <td>36</td>\n",
       "      <td>108</td>\n",
       "      <td>6991.500000</td>\n",
       "      <td>13983.0</td>\n",
       "      <td>0.36</td>\n",
       "    </tr>\n",
       "    <tr>\n",
       "      <th>25</th>\n",
       "      <td>f(A,B,C):-legal_move(B,C,A),behind(B,E,D,A),be...</td>\n",
       "      <td>100</td>\n",
       "      <td>36</td>\n",
       "      <td>108</td>\n",
       "      <td>6993.500000</td>\n",
       "      <td>13987.0</td>\n",
       "      <td>0.36</td>\n",
       "    </tr>\n",
       "    <tr>\n",
       "      <th>51</th>\n",
       "      <td>f(A,B,C):-legal_move(B,C,A),behind(B,D,E,A),di...</td>\n",
       "      <td>100</td>\n",
       "      <td>36</td>\n",
       "      <td>108</td>\n",
       "      <td>6993.500000</td>\n",
       "      <td>13987.0</td>\n",
       "      <td>0.36</td>\n",
       "    </tr>\n",
       "    <tr>\n",
       "      <th>...</th>\n",
       "      <td>...</td>\n",
       "      <td>...</td>\n",
       "      <td>...</td>\n",
       "      <td>...</td>\n",
       "      <td>...</td>\n",
       "      <td>...</td>\n",
       "      <td>...</td>\n",
       "    </tr>\n",
       "    <tr>\n",
       "      <th>111</th>\n",
       "      <td>f(A,B,C):-legal_move(B,C,A),behind(B,E,D,A),be...</td>\n",
       "      <td>100</td>\n",
       "      <td>36</td>\n",
       "      <td>50</td>\n",
       "      <td>25139.590005</td>\n",
       "      <td>28058.0</td>\n",
       "      <td>0.36</td>\n",
       "    </tr>\n",
       "    <tr>\n",
       "      <th>113</th>\n",
       "      <td>f(A,B,C):-legal_move(B,C,A),behind(B,E,D,A),be...</td>\n",
       "      <td>100</td>\n",
       "      <td>36</td>\n",
       "      <td>50</td>\n",
       "      <td>25139.590005</td>\n",
       "      <td>28058.0</td>\n",
       "      <td>0.36</td>\n",
       "    </tr>\n",
       "    <tr>\n",
       "      <th>114</th>\n",
       "      <td>f(A,B,C):-legal_move(B,C,A),attacks(B,D,A),beh...</td>\n",
       "      <td>100</td>\n",
       "      <td>36</td>\n",
       "      <td>50</td>\n",
       "      <td>25139.590005</td>\n",
       "      <td>28058.0</td>\n",
       "      <td>0.36</td>\n",
       "    </tr>\n",
       "    <tr>\n",
       "      <th>116</th>\n",
       "      <td>f(A,B,C):-legal_move(B,C,A),attacks(B,D,A),beh...</td>\n",
       "      <td>100</td>\n",
       "      <td>36</td>\n",
       "      <td>50</td>\n",
       "      <td>25139.590005</td>\n",
       "      <td>28058.0</td>\n",
       "      <td>0.36</td>\n",
       "    </tr>\n",
       "    <tr>\n",
       "      <th>12</th>\n",
       "      <td>f(A,B,C):-legal_move(B,C,A),attacks(B,C,A),dif...</td>\n",
       "      <td>100</td>\n",
       "      <td>57</td>\n",
       "      <td>85</td>\n",
       "      <td>25195.662013</td>\n",
       "      <td>28476.0</td>\n",
       "      <td>0.57</td>\n",
       "    </tr>\n",
       "  </tbody>\n",
       "</table>\n",
       "<p>74 rows × 7 columns</p>\n",
       "</div>"
      ],
      "text/plain": [
       "                                                  text  total_positions  \\\n",
       "56   f(A,B,C):-legal_move(B,C,A),behind(B,D,E,A),di...              100   \n",
       "102  f(A,B,C):-legal_move(B,C,A),behind(B,E,D,A),di...              100   \n",
       "18   f(A,B,C):-legal_move(B,C,A),behind(B,E,D,A),be...              100   \n",
       "25   f(A,B,C):-legal_move(B,C,A),behind(B,E,D,A),be...              100   \n",
       "51   f(A,B,C):-legal_move(B,C,A),behind(B,D,E,A),di...              100   \n",
       "..                                                 ...              ...   \n",
       "111  f(A,B,C):-legal_move(B,C,A),behind(B,E,D,A),be...              100   \n",
       "113  f(A,B,C):-legal_move(B,C,A),behind(B,E,D,A),be...              100   \n",
       "114  f(A,B,C):-legal_move(B,C,A),attacks(B,D,A),beh...              100   \n",
       "116  f(A,B,C):-legal_move(B,C,A),attacks(B,D,A),beh...              100   \n",
       "12   f(A,B,C):-legal_move(B,C,A),attacks(B,C,A),dif...              100   \n",
       "\n",
       "     total_matches  num_suggestions    divergence      avg  coverage  \n",
       "56              36              108   6687.000000  13374.0      0.36  \n",
       "102             36              108   6687.000000  13374.0      0.36  \n",
       "18              36              108   6991.500000  13983.0      0.36  \n",
       "25              36              108   6993.500000  13987.0      0.36  \n",
       "51              36              108   6993.500000  13987.0      0.36  \n",
       "..             ...              ...           ...      ...       ...  \n",
       "111             36               50  25139.590005  28058.0      0.36  \n",
       "113             36               50  25139.590005  28058.0      0.36  \n",
       "114             36               50  25139.590005  28058.0      0.36  \n",
       "116             36               50  25139.590005  28058.0      0.36  \n",
       "12              57               85  25195.662013  28476.0      0.57  \n",
       "\n",
       "[74 rows x 7 columns]"
      ]
     },
     "execution_count": 23,
     "metadata": {},
     "output_type": "execute_result"
    }
   ],
   "source": [
    "df[df['total_matches'] > 10].sort_values(by = ['divergence', 'total_matches'], ascending = [True, False])"
   ]
  }
 ],
 "metadata": {
  "interpreter": {
   "hash": "6355374956c5778604016e244f979cc331398a530384f2842e5bccfbc3abef60"
  },
  "kernelspec": {
   "display_name": "Python 3.10.0 ('tactics')",
   "language": "python",
   "name": "python3"
  },
  "language_info": {
   "codemirror_mode": {
    "name": "ipython",
    "version": 3
   },
   "file_extension": ".py",
   "mimetype": "text/x-python",
   "name": "python",
   "nbconvert_exporter": "python",
   "pygments_lexer": "ipython3",
   "version": "3.10.0"
  },
  "orig_nbformat": 4
 },
 "nbformat": 4,
 "nbformat_minor": 2
}
