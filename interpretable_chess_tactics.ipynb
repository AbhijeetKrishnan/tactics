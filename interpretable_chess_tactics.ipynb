{
 "cells": [
  {
   "cell_type": "markdown",
   "metadata": {},
   "source": [
    "# Import libraries\n",
    "\n",
    "Import required libraries and initialize Stockfish engine\n",
    "\n",
    "TODO: re-write engines to use chess.engine instead, so we can use lc0 with Maia weights as well"
   ]
  },
  {
   "cell_type": "code",
   "execution_count": null,
   "metadata": {},
   "outputs": [],
   "source": [
    "import chess\n",
    "import chess.engine\n",
    "import chess.pgn\n",
    "import os\n",
    "import math"
   ]
  },
  {
   "cell_type": "code",
   "execution_count": null,
   "metadata": {},
   "outputs": [],
   "source": [
    "stockfish = chess.engine.SimpleEngine.popen_uci(os.path.join('bin', 'stockfish_14_x64'))\n",
    "maia = chess.engine.SimpleEngine.popen_uci(os.path.join(os.path.expanduser('~'), 'repos', 'lc0', 'build', 'release', 'lc0'))"
   ]
  },
  {
   "cell_type": "markdown",
   "metadata": {},
   "source": [
    "# Load pgns"
   ]
  },
  {
   "cell_type": "code",
   "execution_count": null,
   "metadata": {},
   "outputs": [],
   "source": [
    "LIMIT = 50 # max number of games to load"
   ]
  },
  {
   "cell_type": "code",
   "execution_count": null,
   "metadata": {},
   "outputs": [],
   "source": [
    "pgn = open(os.path.join('data', 'lichess_db_standard_rated_2013-01.pgn'))\n",
    "games = []\n",
    "for _ in range(LIMIT):\n",
    "    game = chess.pgn.read_game(pgn)\n",
    "    games.append(game)\n",
    "print(len(games))"
   ]
  },
  {
   "cell_type": "markdown",
   "metadata": {},
   "source": [
    "# Define pipeline functions\n",
    "\n",
    "* Calculate value of a piece\n",
    "* Get Stockfish evaluations of tactic move suggestions\n",
    "* Get top-n Stockfish move suggestions for a given board position\n",
    "* Evaluate the move suggestions from a tactic against Stockfish suggestions using DCG (discounted\n",
    "  cumulative gain)\n"
   ]
  },
  {
   "cell_type": "code",
   "execution_count": null,
   "metadata": {},
   "outputs": [],
   "source": [
    "def value(piece_type):\n",
    "    king_values = {\n",
    "        chess.PAWN: 1,\n",
    "        chess.KNIGHT: 3,\n",
    "        chess.BISHOP: 3,\n",
    "        chess.ROOK: 5,\n",
    "        chess.QUEEN: 9,\n",
    "        chess.KING: 99\n",
    "    }\n",
    "    return king_values[piece_type]"
   ]
  },
  {
   "cell_type": "code",
   "execution_count": null,
   "metadata": {},
   "outputs": [],
   "source": [
    "ray_piece_types = [chess.QUEEN, chess.ROOK, chess.BISHOP]\n",
    "\n",
    "def is_defended(board, piece, square) -> bool:\n",
    "    if board.attackers(piece.color, square):\n",
    "        return True\n",
    "    # ray defense https://lichess.org/editor/6k1/3q1pbp/2b1p1p1/1BPp4/rp1PnP2/4PRNP/4Q1P1/4B1K1_w_-_-_0_1\n",
    "    for attacker in board.attackers(not piece.color, square):\n",
    "        attacker_piece = board.piece_at(attacker)\n",
    "        assert(attacker_piece)\n",
    "        if attacker_piece.piece_type in ray_piece_types:\n",
    "            bc = board.copy(stack = False)\n",
    "            bc.remove_piece_at(attacker)\n",
    "            if bc.attackers(piece.color, square):\n",
    "                return True\n",
    "\n",
    "    return False\n",
    "\n",
    "def is_hanging(board, piece, square) -> bool:\n",
    "    return not is_defended(board, piece, square)\n"
   ]
  },
  {
   "cell_type": "code",
   "execution_count": null,
   "metadata": {},
   "outputs": [],
   "source": [
    "def behind(a, b):\n",
    "    whole_ray = chess.SquareSet.ray(a, b)\n",
    "    b_first = False\n",
    "    for square in whole_ray:\n",
    "        if square == b:\n",
    "            b_first = True\n",
    "            break\n",
    "        if square == a:\n",
    "            b_first = False\n",
    "            break\n",
    "    if b_first:\n",
    "        for square in reversed(list(whole_ray)):\n",
    "            whole_ray.discard(square)\n",
    "            if square == b:\n",
    "                break\n",
    "        partial_ray = reversed(list(whole_ray))\n",
    "    else:\n",
    "        for square in whole_ray:\n",
    "            whole_ray.discard(square)\n",
    "            if square == b:\n",
    "                break\n",
    "        partial_ray = whole_ray\n",
    "    return list(partial_ray)"
   ]
  },
  {
   "cell_type": "code",
   "execution_count": null,
   "metadata": {},
   "outputs": [],
   "source": [
    "def get_evals(engine, board, suggestions):\n",
    "    evals = []\n",
    "    analysis = engine.analyse(board, limit=chess.engine.Limit(time=1), multipv=len(suggestions), root_moves=suggestions)\n",
    "    # print(analysis)\n",
    "    evals = [(root['score'].relative, root['pv'][0]) for root in analysis]\n",
    "    return evals"
   ]
  },
  {
   "cell_type": "code",
   "execution_count": null,
   "metadata": {},
   "outputs": [],
   "source": [
    "def get_top_n_moves(engine, n, board):\n",
    "    analysis = engine.analyse(board, limit=chess.engine.Limit(time=1), multipv=n)\n",
    "    # print(analysis)\n",
    "    top_n_moves = [(root['score'].relative, root['pv'][0]) for root in analysis]\n",
    "    return top_n_moves"
   ]
  },
  {
   "cell_type": "code",
   "execution_count": null,
   "metadata": {},
   "outputs": [],
   "source": [
    "def evaluate(evaluated_suggestions, top_moves):\n",
    "    dcg = 0\n",
    "    for idx, (evaluated_move, top_move) in enumerate(zip(evaluated_suggestions, top_moves)):\n",
    "        # print(evaluated_move, top_move)\n",
    "        score, move = evaluated_move\n",
    "        eval = score.score(mate_score=2000)\n",
    "        score_top, move_top = top_move\n",
    "        top_eval = score_top.score(mate_score=2000)\n",
    "        dcg += abs(top_eval - eval) / math.log2(1 + (idx + 1))\n",
    "    return dcg"
   ]
  },
  {
   "cell_type": "markdown",
   "metadata": {},
   "source": [
    "# Define PAL pattern heuristics"
   ]
  },
  {
   "cell_type": "markdown",
   "metadata": {},
   "source": [
    "## In Check\n",
    "\n",
    "An opponent's piece has a plausible move to the place of the King.\n",
    "\n",
    "```\n",
    "in_check(Side,KPlace,OPiece,OPlace,Pos) :-\n",
    "    contents(Side,king,KPlace,Pos),\n",
    "    contents(OSide,OPiece,OPlace,Pos),\n",
    "    other_side(Side,OSide),\n",
    "    piece_move(OSide,OPiece,OPlace,KPlace,Pos).\n",
    "```"
   ]
  },
  {
   "cell_type": "code",
   "execution_count": null,
   "metadata": {},
   "outputs": [],
   "source": [
    "def in_check(board):\n",
    "    return board.is_check()"
   ]
  },
  {
   "cell_type": "markdown",
   "metadata": {},
   "source": [
    "## Stale\n",
    "\n",
    "A piece cannot move and the opponent's King is not in check.\n",
    "\n",
    "```prolog\n",
    "stale(Side,Piece,Place,Pos) :-\n",
    "    contents(Side,Piece,Place,Pos),\n",
    "    \\+ legal_move(Side,Piece,Place,_,Pos),\n",
    "    other_side(Side,OSide),\n",
    "    \\+ in_check(OSide,_,_,_,Pos).\n",
    "```"
   ]
  },
  {
   "cell_type": "markdown",
   "metadata": {},
   "source": [
    "## Threat1 (static)\n",
    "\n",
    "One piece (P1) threatens an opponent's piece (P2) if there is a legal move of P1 to the place of\n",
    "P2. The difference between _threat_ and _threat1_ is that the former is applicable only when the \n",
    "opponent's side is not in check.\n",
    "\n",
    "```prolog\n",
    "threat1(S1,P1,(X1,Y1),S2,P2,(X2,Y2),Pos) :-\n",
    "    contents(S2,P2,(X2,Y2),Pos),\n",
    "    other_side(S2,S1),\n",
    "    legal_move(S1,P1,(X1,Y1),(X2,Y2),Pos).\n",
    "```"
   ]
  },
  {
   "cell_type": "markdown",
   "metadata": {},
   "source": [
    "## Threat\n",
    "\n",
    "A piece (P1) threatens an opponent's piece (P2) if P1 can capture P2.\n",
    "\n",
    "```prolog\n",
    "threat(S1,P1,(X1,Y1),S2,P2,(X2,Y2),Pos1) :-\n",
    "    contents(S2,P2,(X2,Y2),Pos1),\n",
    "    other_side(S2,S1),\n",
    "    make_move(S1,P1,(X1,Y1),(X2,Y2),Pos1,Pos2),\n",
    "    \\+ contents(S2,P2,(X2,Y2),Pos2).\n",
    "```"
   ]
  },
  {
   "cell_type": "markdown",
   "metadata": {},
   "source": [
    "## Fork\n",
    "\n",
    "There is a \"special\" fork if a piece (P3) threatens another piece (P2) and checks the King at the\n",
    "same time.\n",
    "\n",
    "```prolog\n",
    "fork(S1,king,(X1,X2),S1,P2,(X2,Y2),S2,P3,(X3,Y3),Pos) :-\n",
    "    other_side(S2,S1),\n",
    "    in_check(S1,(X1,Y1),P3,(X3,Y3),Pos),\n",
    "    legal_move(S2,P3,(X3,Y3),(X2,Y2),Pos).\n",
    "```\n",
    "\n",
    "```prolog\n",
    "fork(S1,king,(X1,X2),S1,P2,(X2,Y2),S2,P3,(X3,Y3),Pos) :-\n",
    "    in_check(S1,(X1,Y1),P3,(X3,Y3),Pos),\n",
    "    threat1(S2,P3,(X3,Y3),S1,P2,(X2,Y2),Pos).\n",
    "```"
   ]
  },
  {
   "cell_type": "code",
   "execution_count": null,
   "metadata": {},
   "outputs": [],
   "source": [
    "def fork(board):\n",
    "    match = False\n",
    "    suggestions = []\n",
    "    for move in board.legal_moves:\n",
    "        moved_piece_type = board.piece_type_at(move.from_square)\n",
    "        if moved_piece_type == chess.KING:\n",
    "            continue\n",
    "        board.push(move)\n",
    "        board.push(chess.Move.null())\n",
    "        nb = 0\n",
    "        # print(move, chess.square_name(move.to_square), board.attacks(move.to_square))\n",
    "        for attacks in board.attacks(move.to_square):\n",
    "            attacked_piece = board.piece_at(attacks)\n",
    "            # print(chess.square_name(attacks), attacked_piece, value(attacked_piece))\n",
    "            if attacked_piece is None or attacked_piece.color == board.turn:\n",
    "                continue\n",
    "            # if attacked_piece.piece_type == chess.PAWN:\n",
    "            #    continue\n",
    "            if value(attacked_piece.piece_type) > value(moved_piece_type) or (\n",
    "                is_hanging(board, attacked_piece, attacks) and\n",
    "                attacks not in board.attackers(not board.turn, move.to_square)\n",
    "            ):\n",
    "                nb += 1\n",
    "        board.pop()\n",
    "        board.pop()\n",
    "        if nb > 1:\n",
    "            match = True\n",
    "            suggestions.append(move)\n",
    "    suggestions = list(set(suggestions))\n",
    "    return match, suggestions[:3]"
   ]
  },
  {
   "cell_type": "markdown",
   "metadata": {},
   "source": [
    "## Can Threat\n",
    "\n",
    "A piece (P1) can threaten another piece (P2) after making a move to (X3,Y3).\n",
    "\n",
    "```prolog\n",
    "can_threat(S1,P1,(X1,Y1),S2,P2,(X2,Y2),(X3,Y3),Pos1) :-\n",
    "    contents(S1,P1,(X1,Y1),Pos1),\n",
    "    \\+ threat(S1,P1,(X1,Y1),S2,P2,(X2,Y2),Pos1),\n",
    "    make_move(S1,P1,(X1,Y1),(X3,Y3),Pos1,Pos2),\n",
    "    threat(S1,P1,(X3,Y3),S2,P2,(X2,Y2),Pos2).\n",
    "```"
   ]
  },
  {
   "cell_type": "markdown",
   "metadata": {},
   "source": [
    "## Can Fork\n",
    "\n",
    "A piece (P1) can produce a fork to the opponent's King and piece (P3) after making a move to\n",
    "(X4,Y4).\n",
    "\n",
    "```prolog\n",
    "can_fork(S1,P1,(X1,Y1),S2,king,(X2,Y2),S2,P3,(X3,Y3),(X4,Y4),Pos1)  \n",
    "    contents(S1,P1,(X1,Y1),Pos),\n",
    "    \\+ fork(S2,king,(X2,Y2),S2,P3,(X3,Y3),S1,P1,(X1,Y1),Pos1),\n",
    "    make_move(S1,P1,(X1,Y1),(X4,Y4),Pos1,Pos2),\n",
    "    fork(S2,king,(X2,Y2),S2,P3,(X3,Y3),S1,P1,(X4,Y4),Pos2).\n",
    "```"
   ]
  },
  {
   "cell_type": "markdown",
   "metadata": {},
   "source": [
    "## Can Check\n",
    "\n",
    "A piece (P1) can check the opponent's King after a moving to (X3,Y3).\n",
    "\n",
    "```prolog\n",
    "can_check(S1,P1,(X1,Y1),S2,king,(X2,Y2),(X3,Y3),Pos1) :-\n",
    "    contents(S1,P1,(X1,Y1),Pos1),\n",
    "    other_side(S1,S2),\n",
    "    \\+ in_check(S2,(X2,Y2),P1,(X1,Y1),Pos1),\n",
    "    make_move(S1,P1,(X1,Y1),(X3,Y3),Pos1,Pos2),\n",
    "    in_check(S2,(X2,Y2),P2,(X3,Y3),Pos2).\n",
    "```"
   ]
  },
  {
   "cell_type": "markdown",
   "metadata": {},
   "source": [
    "## Discovered Check\n",
    "\n",
    "A check by piece (P2) can be \"discovered\" after moving another piece (P1) to (X4,Y4).\n",
    "\n",
    "```prolog\n",
    "disc_check(S1,P1,(X1,Y1),S1,P2,(X2,Y2),S2,king,(X3,Y3),(X4,Y4),Pos1) :-  \n",
    "    contents(S1,P1,(X1,Y1),Pos1),\n",
    "    other_side(S1,S2),\n",
    "    sliding_piece(P1,(X1,Y1),Pos1),\n",
    "    \\+ in_check(S2,(X3,Y3),P1,(X1,Y1),Pos1),\n",
    "    make_move(S1,P2,(X2,Y2),(X4,Y4),Pos1,Pos2),\n",
    "    in_check(S2,(X3,Y3),P1,(X1,Y1),Pos2).\n",
    "```"
   ]
  },
  {
   "cell_type": "code",
   "execution_count": null,
   "metadata": {},
   "outputs": [],
   "source": [
    "def discovered_check(board):\n",
    "    match = False\n",
    "    suggestions = []\n",
    "    # print(board)\n",
    "    # print(board.legal_moves)\n",
    "    for move in board.legal_moves:\n",
    "        # print(move)\n",
    "        board.push(move)\n",
    "        if not board.is_valid() or not board.is_check():\n",
    "            board.pop()\n",
    "            continue\n",
    "        if move.to_square in board.checkers():\n",
    "            board.pop()\n",
    "            continue\n",
    "        else:\n",
    "            match = True\n",
    "            suggestions.append(move)\n",
    "        board.pop()\n",
    "    suggestions = list(set(suggestions))\n",
    "    return match, suggestions[:3]"
   ]
  },
  {
   "cell_type": "markdown",
   "metadata": {},
   "source": [
    "## Discovered Threat\n",
    "\n",
    "A piece (P1) can\n",
    "threat an opponent's piece (P3) after moving another piece (P2) to\n",
    "(X4,Y4).\n",
    "\n",
    "```prolog\n",
    "disc_threat(S1,P1,(X1,Y1),S1,P2,(X2,Y2),S2,P3,(X3,Y3),(X4,Y4),Pos1) :- \n",
    "    sliding_piece(P1,(X1,Y1),Pos1),\n",
    "    \\+ threat(S1,P1,(X1,Y1),S2,P3,(X3,Y3),Pos1),\n",
    "    make_move(S1,P2,(X2,Y2),(X4,Y4),Pos1,Pos2),\n",
    "    threat(S1,P1,(X1,Y1),S2,P3,(X3,Y3),Pos2).\n",
    "```"
   ]
  },
  {
   "cell_type": "markdown",
   "metadata": {},
   "source": [
    "## Skewer\n",
    "\n",
    "A King in check by a piece (P1)\n",
    "\"exposes\" another piece (P3) when it is moved out of check to (X4,Y4).\n",
    "\n",
    "```prolog\n",
    "skewer(S1,P1,(X1,Y1),S2,king,(X2,Y2),S2,P3,(X3,Y3),(X4,Y4),Pos1) :- \n",
    "    sliding_piece(P1,(X1,Y1),Pos1),\n",
    "    stale(S2,P3,(X3,Y3),Pos1),\n",
    "    in_check(S2,(X2,Y2),P1,(X1,Y1),Pos1),\n",
    "    \\+ threat1(S1,P1,(X1,Y1),S2,P3,(X3,Y3),Pos1),\n",
    "    make_move(S2,king,(X2,Y2),(X4,Y4),Pos1,Pos2),\n",
    "    \\+ stale(S2,P3,(X3,Y3),Pos2),\n",
    "    \\+ in_check(S2,(X2,Y2),P1,(X1,Y1),Pos2),\n",
    "    threat1(S1,P1,(X1,Y1),S2,P3,(X3,Y3),Pos2).\n",
    "```\n"
   ]
  },
  {
   "cell_type": "code",
   "execution_count": null,
   "metadata": {},
   "outputs": [],
   "source": [
    "def skewer(board):\n",
    "    match = False\n",
    "    suggestions = []\n",
    "    # print(board)\n",
    "    # print(board.legal_moves)\n",
    "    for move in board.legal_moves:\n",
    "        # print(move)\n",
    "        moved_piece_type = board.piece_type_at(move.from_square)\n",
    "        if moved_piece_type not in ray_piece_types:\n",
    "            continue\n",
    "        board.push(move)\n",
    "        board.push(chess.Move.null())\n",
    "        if not board.is_valid():\n",
    "            board.pop()\n",
    "            board.pop()\n",
    "            continue\n",
    "        for attacked_square in board.attacks(move.to_square):\n",
    "            attacked_piece = board.piece_at(attacked_square)\n",
    "            if attacked_piece is None or attacked_piece.color == board.turn:\n",
    "                continue\n",
    "            # if piece immediately \"behind\" attacked piece is of opponent color and of lower value\n",
    "            # than attacked piece, then match\n",
    "            partial_ray = behind(move.to_square, attacked_square)\n",
    "            # print(partial_ray)\n",
    "            for square in partial_ray:\n",
    "                if (xrayed_piece := board.piece_at(square)) is not None:\n",
    "                    if (\n",
    "                        xrayed_piece.color != board.turn and # opponent color\n",
    "                        is_hanging(board, xrayed_piece, square) and # unsupported\n",
    "                        value(xrayed_piece.piece_type) < value(attacked_piece.piece_type) # lesser value\n",
    "                    ):\n",
    "                        match = True\n",
    "                        suggestions.append(move)\n",
    "                    break\n",
    "        board.pop()\n",
    "        board.pop()\n",
    "    suggestions = list(set(suggestions))\n",
    "    return match, suggestions[:3]"
   ]
  },
  {
   "cell_type": "markdown",
   "metadata": {},
   "source": [
    "## Pin\n",
    "\n",
    "A piece (P3) cannot move because it will produce a check on its\n",
    "own side by piece (P1).\n",
    "\n",
    "```prolog\n",
    "pin1(S1,P1,(X1,Y1),S2,king,(X2,Y2),S2,P3,(X3,Y3),Pos1) :-\n",
    "    sliding_piece(P1,(X1,Y1),Pos1),\n",
    "    stale(S2,P3,(X3,Y3),Pos1),\n",
    "    threat(S1,P1,(X1,Y1),S2,P3,(X3,Y3),Pos1),\n",
    "    \\+ in_check(S2,(X2,Y2),P1,(X1,Y1),Pos1),\n",
    "    make_move(S1,P1,(X1,Y1),(X3,Y3),Pos1,Pos2),\n",
    "    \\+ contents(S2,P3,(X3,Y3),Pos2),\n",
    "    \\+ stale(S2,P3,(X3,Y3),Pos2),\n",
    "    \\+ threat(S1,P1,(X1,Y1),S2,P3,(X3,Y3),Pos2),\n",
    "    in_check(S2,(X2,Y2),P1,(X3,Y3),Pos2).\n",
    "```\n",
    "\n",
    "This definition, however, is incorrect as it accepts positions where a\n",
    "Pawn cannot move (i.e., stale) because it is \"blocked\" by another piece\n",
    "rather than being unable to move because it creates a check on its own\n",
    "King."
   ]
  },
  {
   "cell_type": "code",
   "execution_count": null,
   "metadata": {},
   "outputs": [],
   "source": [
    "def pin(board):\n",
    "    match = False\n",
    "    suggestions = []\n",
    "    # print(board)\n",
    "    # print(board.legal_moves)\n",
    "    for move in board.legal_moves:\n",
    "        # print(move)\n",
    "        moved_piece_type = board.piece_type_at(move.from_square)\n",
    "        if moved_piece_type not in ray_piece_types:\n",
    "            continue\n",
    "        board.push(move)\n",
    "        board.push(chess.Move.null())\n",
    "        if not board.is_valid():\n",
    "            board.pop()\n",
    "            board.pop()\n",
    "            continue\n",
    "        for attacked_square in board.attacks(move.to_square):\n",
    "            attacked_piece = board.piece_at(attacked_square)\n",
    "            if (\n",
    "                attacked_piece is None or # a piece is attacked\n",
    "                attacked_piece.color == board.turn or # attacked piece belongs to opponent\n",
    "                value(moved_piece_type) > value(attacked_piece.piece_type) # attacked piece is of lesser/equal value than attacker\n",
    "            ):\n",
    "                continue\n",
    "            # if piece immediately \"behind\" attacked piece is of opponent color and of higher value\n",
    "            # than attacked piece, then match\n",
    "            partial_ray = behind(move.to_square, attacked_square)\n",
    "            # print(partial_ray)\n",
    "            for square in partial_ray:\n",
    "                if (xrayed_piece := board.piece_at(square)) is not None:\n",
    "                    if (\n",
    "                        xrayed_piece.color != board.turn and # opponent color\n",
    "                        value(xrayed_piece.piece_type) > value(attacked_piece.piece_type) # greater value\n",
    "                    ):\n",
    "                        match = True\n",
    "                        suggestions.append(move)\n",
    "                    break\n",
    "        board.pop()\n",
    "        board.pop()\n",
    "    suggestions = list(set(suggestions))\n",
    "    return match, suggestions[:3]"
   ]
  },
  {
   "cell_type": "markdown",
   "metadata": {},
   "source": [
    "# Calculate metrics for all games"
   ]
  },
  {
   "cell_type": "code",
   "execution_count": null,
   "metadata": {},
   "outputs": [],
   "source": [
    "total = 0  # total number of games\n",
    "matches = 0 # number of matches found in a position across all games\n",
    "total_dcg = 0\n",
    "engine = maia\n",
    "for game in games:\n",
    "    board = game.board()\n",
    "    total += 1\n",
    "    for move in game.mainline_moves():\n",
    "        board.push(move)\n",
    "        match, suggestions = discovered_check(board)\n",
    "        if match:\n",
    "            matches += 1\n",
    "            evals = get_evals(engine, board, suggestions)\n",
    "            top_n_moves = get_top_n_moves(engine, len(suggestions), board)\n",
    "            # print(board.fen(), evaluated_suggestions, top_n_moves)\n",
    "            total_dcg += evaluate(evals, top_n_moves)\n",
    "            \n",
    "print(f'Coverage = {matches / total}') # average number of matches per game\n",
    "print(f'Total DCG = {total_dcg}')"
   ]
  },
  {
   "cell_type": "markdown",
   "metadata": {},
   "source": [
    "# Individual Test Position\n",
    "\n",
    "A single constructed position for testing the constructed heuristics"
   ]
  },
  {
   "cell_type": "code",
   "execution_count": null,
   "metadata": {},
   "outputs": [],
   "source": [
    "board = chess.Board('4k3/8/8/8/8/4B3/4R3/4K3 w - - 0 1')\n",
    "board"
   ]
  },
  {
   "cell_type": "code",
   "execution_count": null,
   "metadata": {},
   "outputs": [],
   "source": [
    "engine = maia\n",
    "# print(engine.options)"
   ]
  },
  {
   "cell_type": "code",
   "execution_count": null,
   "metadata": {},
   "outputs": [],
   "source": [
    "match, suggestions = discovered_check(board)\n",
    "print(suggestions)\n",
    "analysis = engine.analyse(board, chess.engine.Limit(nodes=1), multipv=len(suggestions), root_moves=suggestions)\n",
    "print(analysis)"
   ]
  },
  {
   "cell_type": "code",
   "execution_count": null,
   "metadata": {},
   "outputs": [],
   "source": [
    "match, suggestions = discovered_check(board)\n",
    "# print(match, suggestions)\n",
    "top_moves = get_top_n_moves(engine, len(suggestions), board)\n",
    "# print(top_moves)\n",
    "if match:\n",
    "    evals = get_evals(stockfish, board, suggestions)\n",
    "    # print(board.fen(), match, list(zip(suggestions, evals)), top_moves)\n",
    "print(evaluate(evals, top_moves))"
   ]
  },
  {
   "cell_type": "code",
   "execution_count": null,
   "metadata": {},
   "outputs": [],
   "source": [
    "engine.quit()"
   ]
  }
 ],
 "metadata": {
  "interpreter": {
   "hash": "d56e41974dd82c9ef6345b5c5c88b4131ced393900300f66f12963d629b863ab"
  },
  "kernelspec": {
   "display_name": "Python 3.9.6 64-bit ('tactics': conda)",
   "name": "python3"
  },
  "language_info": {
   "codemirror_mode": {
    "name": "ipython",
    "version": 3
   },
   "file_extension": ".py",
   "mimetype": "text/x-python",
   "name": "python",
   "nbconvert_exporter": "python",
   "pygments_lexer": "ipython3",
   "version": "3.9.6"
  },
  "orig_nbformat": 4
 },
 "nbformat": 4,
 "nbformat_minor": 2
}
