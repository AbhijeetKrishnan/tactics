{
 "cells": [
  {
   "cell_type": "code",
   "execution_count": null,
   "source": [
    "import chess\n",
    "import chess.pgn\n",
    "import os\n",
    "\n",
    "LIMIT = 50\n",
    "\n",
    "pgn = open(os.path.join('data', 'lichess_db_standard_rated_2013-01.pgn'))\n",
    "games = []\n",
    "for _ in range(LIMIT):\n",
    "    game = chess.pgn.read_game(pgn)\n",
    "    games.append(game)\n",
    "print(len(games))"
   ],
   "outputs": [],
   "metadata": {}
  },
  {
   "cell_type": "code",
   "execution_count": null,
   "source": [
    "board = games[0].board()\n",
    "for move in games[0].mainline_moves():\n",
    "    board.push(move)\n",
    "\n",
    "board"
   ],
   "outputs": [],
   "metadata": {}
  },
  {
   "cell_type": "code",
   "execution_count": null,
   "source": [
    "from stockfish import Stockfish\n",
    "\n",
    "stockfish = Stockfish(os.path.join('bin', 'stockfish_14_x64'))\n",
    "stockfish.set_position(['e2e4', 'e7e6'])\n",
    "stockfish.get_top_moves(3)"
   ],
   "outputs": [],
   "metadata": {}
  },
  {
   "cell_type": "code",
   "execution_count": null,
   "source": [
    "def value(piece):\n",
    "    if not piece:\n",
    "        return 0\n",
    "    elif piece.piece_type == chess.PAWN:\n",
    "        return 1\n",
    "    elif piece.piece_type == chess.KNIGHT:\n",
    "        return 3\n",
    "    elif piece.piece_type == chess.BISHOP:\n",
    "        return 3\n",
    "    elif piece.piece_type == chess.ROOK:\n",
    "        return 5\n",
    "    elif piece.piece_type == chess.QUEEN:\n",
    "        return 9\n",
    "    else:\n",
    "        return 0"
   ],
   "outputs": [],
   "metadata": {}
  },
  {
   "cell_type": "code",
   "execution_count": null,
   "source": [
    "def fork(board):\n",
    "    match = False\n",
    "    suggestions = []\n",
    "    for move in board.legal_moves:\n",
    "        if board.piece_type_at(move.from_square) == chess.KING:\n",
    "            continue\n",
    "        board.push(move)\n",
    "        board.push(chess.Move.null())\n",
    "        nb = 0\n",
    "        # print(move, chess.square_name(move.to_square), board.attacks(move.to_square))\n",
    "        for attacks in board.attacks(move.to_square):\n",
    "            attacked_piece = board.piece_at(attacks)\n",
    "            # print(chess.square_name(attacks), attacked_piece, value(attacked_piece))\n",
    "            if value(attacked_piece) > 1:\n",
    "                nb += 1\n",
    "        board.pop()\n",
    "        board.pop()\n",
    "        if nb > 1:\n",
    "            match = True\n",
    "            suggestions.append(move)\n",
    "    return match, suggestions[:3]"
   ],
   "outputs": [],
   "metadata": {}
  },
  {
   "cell_type": "code",
   "execution_count": null,
   "source": [
    "def get_evals(engine, board, suggestions):\n",
    "    evals = []\n",
    "    previous_board_fen = engine.get_fen_position()\n",
    "    for suggested_move in suggestions:\n",
    "        board.push(suggested_move)\n",
    "        engine.set_fen_position(board.fen())\n",
    "        evaluation = engine.get_evaluation()\n",
    "        evals.append((evaluation['type'], evaluation['value']))\n",
    "        board.pop()\n",
    "    engine.set_fen_position(previous_board_fen)\n",
    "    return evals"
   ],
   "outputs": [],
   "metadata": {}
  },
  {
   "cell_type": "code",
   "execution_count": null,
   "source": [
    "def get_top_n_moves(engine, n, board):\n",
    "    previous_board_fen = engine.get_fen_position()\n",
    "    engine.set_fen_position(board.fen())\n",
    "    top_n_moves = engine.get_top_moves(n)\n",
    "    engine.set_fen_position(previous_board_fen)\n",
    "    return top_n_moves"
   ],
   "outputs": [],
   "metadata": {}
  },
  {
   "cell_type": "code",
   "execution_count": null,
   "source": [
    "import math\n",
    "\n",
    "def evaluate(evaluated_suggestions, top_moves):\n",
    "    dcg = 0\n",
    "    for idx, (evaluated_move, top_move) in enumerate(zip(evaluated_suggestions, top_moves)):\n",
    "        # print(evaluated_move, top_move)\n",
    "        if evaluated_move[1][0] == 'cp':\n",
    "            eval = evaluated_move[1][1]\n",
    "        elif evaluated_move[1][0] == 'mate':\n",
    "            eval = 2000\n",
    "        top_eval = top_move['Centipawn'] if not top_move['Mate'] else 2000\n",
    "        dcg += abs(top_eval - eval) / math.log2(1 + (idx + 1))\n",
    "    return dcg"
   ],
   "outputs": [],
   "metadata": {}
  },
  {
   "cell_type": "code",
   "execution_count": null,
   "source": [
    "total = 0\n",
    "matches = 0\n",
    "total_dcg = 0\n",
    "for game in games:\n",
    "    board = game.board()\n",
    "    total += 1\n",
    "    for move in game.mainline_moves():\n",
    "        board.push(move)\n",
    "        match, suggestions = fork(board)\n",
    "        if match:\n",
    "            matches += 1\n",
    "            evals = get_evals(stockfish, board, suggestions)\n",
    "            evaluated_suggestions = zip(suggestions, evals)\n",
    "            top_n_moves = get_top_n_moves(stockfish, len(suggestions), board)\n",
    "            print(board.fen(), evaluated_suggestions, top_n_moves)\n",
    "            total_dcg += evaluate(evaluated_suggestions, top_n_moves)\n",
    "            \n",
    "print(f'Coverage = {matches / total}')\n",
    "print(f'Total DCG = {total_dcg}')"
   ],
   "outputs": [],
   "metadata": {}
  },
  {
   "cell_type": "code",
   "execution_count": null,
   "source": [
    "board = chess.Board('r1bqkb1r/pppp1ppp/2n5/4p3/4P1n1/2NP1N2/PPP2PPP/R1BQKB1R w KQkq - 1 5')\n",
    "match, suggestions = fork(board)\n",
    "top_moves = get_top_n_moves(stockfish, len(suggestions), board)\n",
    "if match:\n",
    "    evals = get_evals(stockfish, board, suggestions)\n",
    "    print(board.fen(), match, list(zip(suggestions, evals)), top_moves)\n",
    "print(evaluate(zip(suggestions, evals), top_moves))"
   ],
   "outputs": [],
   "metadata": {}
  }
 ],
 "metadata": {
  "orig_nbformat": 4,
  "language_info": {
   "name": "python",
   "version": "3.9.6",
   "mimetype": "text/x-python",
   "codemirror_mode": {
    "name": "ipython",
    "version": 3
   },
   "pygments_lexer": "ipython3",
   "nbconvert_exporter": "python",
   "file_extension": ".py"
  },
  "kernelspec": {
   "name": "python3",
   "display_name": "Python 3.9.6 64-bit ('tactics': conda)"
  },
  "interpreter": {
   "hash": "d56e41974dd82c9ef6345b5c5c88b4131ced393900300f66f12963d629b863ab"
  }
 },
 "nbformat": 4,
 "nbformat_minor": 2
}